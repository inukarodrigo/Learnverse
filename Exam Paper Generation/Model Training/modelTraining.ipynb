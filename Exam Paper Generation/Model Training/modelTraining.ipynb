{
 "cells": [
  {
   "cell_type": "code",
   "execution_count": 13,
   "id": "4f33e4c0",
   "metadata": {},
   "outputs": [],
   "source": [
    "# importing libraries\n",
    "import pandas as pd\n",
    "from datasets import Dataset, load_metric\n",
    "from transformers import AutoTokenizer, AutoModelForSequenceClassification, DataCollatorWithPadding, TrainingArguments,Trainer\n",
    "from torch.utils.data import DataLoader\n",
    "import matplotlib.pyplot as plt\n",
    "import torch\n",
    "from sklearn.metrics import mean_absolute_error\n",
    "from sklearn.metrics import mean_squared_error\n",
    "from sklearn.metrics import r2_score"
   ]
  },
  {
   "cell_type": "code",
   "execution_count": 14,
   "id": "51ba13ca",
   "metadata": {},
   "outputs": [],
   "source": [
    "# Reading the csv file\n",
    "X = pd.read_csv('table_to_train_the_model.csv')"
   ]
  },
  {
   "cell_type": "code",
   "execution_count": 15,
   "id": "97fe5777",
   "metadata": {},
   "outputs": [],
   "source": [
    "# Converting pandas dataframe into a dataset\n",
    "dataset = Dataset.from_pandas(X, preserve_index=False)"
   ]
  },
  {
   "cell_type": "code",
   "execution_count": 16,
   "id": "7a74bfb7",
   "metadata": {},
   "outputs": [],
   "source": [
    "# Splitting the data into train and test\n",
    "dataset = dataset.train_test_split(test_size=0.3)\n",
    "raw_train_ds = dataset[\"train\"]  # Training dataset\n",
    "remaining_data = dataset[\"test\"]"
   ]
  },
  {
   "cell_type": "code",
   "execution_count": 17,
   "id": "40e25536",
   "metadata": {},
   "outputs": [],
   "source": [
    "# Get the validation dataset testing dataset\n",
    "dataset_2 = remaining_data.train_test_split(test_size=0.5)\n",
    "raw_test_ds = dataset_2[\"train\"]  # Testing dataset\n",
    "raw_val_ds = dataset_2[\"test\"]  # Validation dataset"
   ]
  },
  {
   "cell_type": "code",
   "execution_count": 18,
   "id": "63b252a6",
   "metadata": {},
   "outputs": [
    {
     "data": {
      "text/plain": [
       "(Dataset({\n",
       "     features: ['RelatedLesson', 'no_of_occurance'],\n",
       "     num_rows: 692\n",
       " }),\n",
       " Dataset({\n",
       "     features: ['RelatedLesson', 'no_of_occurance'],\n",
       "     num_rows: 149\n",
       " }),\n",
       " Dataset({\n",
       "     features: ['RelatedLesson', 'no_of_occurance'],\n",
       "     num_rows: 148\n",
       " }))"
      ]
     },
     "execution_count": 18,
     "metadata": {},
     "output_type": "execute_result"
    }
   ],
   "source": [
    "# Print the description of the train_ds\n",
    "raw_train_ds, raw_val_ds, raw_test_ds"
   ]
  },
  {
   "cell_type": "code",
   "execution_count": 19,
   "id": "cca72428",
   "metadata": {},
   "outputs": [
    {
     "data": {
      "text/plain": [
       "{'RelatedLesson': 'web development', 'no_of_occurance': 5}"
      ]
     },
     "execution_count": 19,
     "metadata": {},
     "output_type": "execute_result"
    }
   ],
   "source": [
    "# Output of one row in the dataset\n",
    "raw_train_ds[0]"
   ]
  },
  {
   "cell_type": "code",
   "execution_count": 20,
   "id": "7f5c764b",
   "metadata": {},
   "outputs": [
    {
     "data": {
      "image/png": "[encoded data removed]",
      "text/plain": [
       "<Figure size 640x480 with 3 Axes>"
      ]
     },
     "metadata": {},
     "output_type": "display_data"
    }
   ],
   "source": [
    "# analysing the class (no_of_occurrence) distribution in each dataset.\n",
    "fig, axs = plt.subplots(1, 3, tight_layout=True)\n",
    "distributions = []\n",
    "\n",
    "axs[0].set_title(\"Train\")\n",
    "axs[1].set_title(\"Validation\")\n",
    "axs[2].set_title(\"Test\")\n",
    "\n",
    "train_distributions = axs[0].hist(raw_train_ds[\"no_of_occurance\"], bins=5)\n",
    "val_distributions = axs[1].hist(raw_val_ds[\"no_of_occurance\"], bins=5)\n",
    "test_distributions = axs[2].hist(raw_test_ds[\"no_of_occurance\"], bins=5)\n",
    "\n",
    "for distributions, ax in zip([train_distributions, val_distributions, test_distributions], axs):\n",
    "    for j in range(5):\n",
    "        # Display the counts on each column of the histograms\n",
    "        ax.text(distributions[1][j], distributions[0][j], str(int(distributions[0][j])), weight=\"bold\")"
   ]
  },
  {
   "cell_type": "code",
   "execution_count": 21,
   "id": "480c5d2c",
   "metadata": {},
   "outputs": [
    {
     "name": "stderr",
     "output_type": "stream",
     "text": [
      "Some weights of the model checkpoint at camembert-base were not used when initializing CamembertForSequenceClassification: ['lm_head.bias', 'lm_head.dense.weight', 'roberta.pooler.dense.weight', 'lm_head.dense.bias', 'roberta.pooler.dense.bias', 'lm_head.decoder.weight', 'lm_head.layer_norm.bias', 'lm_head.layer_norm.weight']\n",
      "- This IS expected if you are initializing CamembertForSequenceClassification from the checkpoint of a model trained on another task or with another architecture (e.g. initializing a BertForSequenceClassification model from a BertForPreTraining model).\n",
      "- This IS NOT expected if you are initializing CamembertForSequenceClassification from the checkpoint of a model that you expect to be exactly identical (initializing a BertForSequenceClassification model from a BertForSequenceClassification model).\n",
      "Some weights of CamembertForSequenceClassification were not initialized from the model checkpoint at camembert-base and are newly initialized: ['classifier.out_proj.weight', 'classifier.out_proj.bias', 'classifier.dense.weight', 'classifier.dense.bias']\n",
      "You should probably TRAIN this model on a down-stream task to be able to use it for predictions and inference.\n"
     ]
    }
   ],
   "source": [
    "# Load the model and the tokenizer\n",
    "BASE_MODEL = \"camembert-base\"\n",
    "LEARNING_RATE = 2e-5\n",
    "MAX_LENGTH = 256\n",
    "BATCH_SIZE = 16\n",
    "EPOCHS = 20\n",
    "\n",
    "tokenizer = AutoTokenizer.from_pretrained(BASE_MODEL)\n",
    "# Setting the number of output logit to one\n",
    "model = AutoModelForSequenceClassification.from_pretrained(BASE_MODEL, num_labels = 1)"
   ]
  },
  {
   "cell_type": "code",
   "execution_count": 22,
   "id": "93ad594a",
   "metadata": {},
   "outputs": [
    {
     "data": {
      "application/vnd.jupyter.widget-view+json": {
       "model_id": "7e5735015db1437fa7752583cc720796",
       "version_major": 2,
       "version_minor": 0
      },
      "text/plain": [
       "  0%|          | 0/692 [00:00<?, ?ex/s]"
      ]
     },
     "metadata": {},
     "output_type": "display_data"
    },
    {
     "data": {
      "application/vnd.jupyter.widget-view+json": {
       "model_id": "62925666a5524480935e898cc17b6407",
       "version_major": 2,
       "version_minor": 0
      },
      "text/plain": [
       "  0%|          | 0/149 [00:00<?, ?ex/s]"
      ]
     },
     "metadata": {},
     "output_type": "display_data"
    },
    {
     "data": {
      "application/vnd.jupyter.widget-view+json": {
       "model_id": "196c62f42a7e43c8bbbd94ef65f2dc30",
       "version_major": 2,
       "version_minor": 0
      },
      "text/plain": [
       "  0%|          | 0/148 [00:00<?, ?ex/s]"
      ]
     },
     "metadata": {},
     "output_type": "display_data"
    }
   ],
   "source": [
    "# Tokenize the dataset and associate the label attribute to each dataset item\n",
    "ds = {\"train\": raw_train_ds, \"validation\": raw_val_ds, \"test\": raw_test_ds}\n",
    "\n",
    "\n",
    "def preprocess_function(examples):\n",
    "    label = examples[\"no_of_occurance\"]\n",
    "    examples = tokenizer(examples[\"RelatedLesson\"], truncation=True, padding=\"max_length\", max_length=256)\n",
    "    examples[\"label\"] = float(label)\n",
    "    return examples\n",
    "\n",
    "\n",
    "for split in ds:\n",
    "    ds[split] = ds[split].map(preprocess_function, remove_columns=[\"RelatedLesson\", \"no_of_occurance\"])"
   ]
  },
  {
   "cell_type": "code",
   "execution_count": 23,
   "id": "420678fd",
   "metadata": {},
   "outputs": [],
   "source": [
    "# Creating a function to calculate the global accuracy score\n",
    "def compute_metrics_for_regression(eval_pred):\n",
    "    logits, labels = eval_pred\n",
    "    labels = labels.reshape(-1,1)\n",
    "\n",
    "    # mse, mae, r2 will be used in training args\n",
    "    mse = mean_squared_error(labels, logits)\n",
    "    mae = mean_absolute_error(labels, logits)\n",
    "    r2 = r2_score(labels, logits)\n",
    "    single_squared_errors = ((logits - labels).flatten()**2).tolist()\n",
    "\n",
    "    # Compute accuracy\n",
    "    # Based on the fact that the rounded score = true score only if |single_squared_errors| < 0.5\n",
    "    accuracy = sum([1 for e in single_squared_errors if e < 0.25]) / len(single_squared_errors)\n",
    "\n",
    "    return {\"mse\": mse, \"mae\": mae, \"r2\": r2, \"accuracy\": accuracy}"
   ]
  },
  {
   "cell_type": "code",
   "execution_count": 24,
   "id": "50c03629",
   "metadata": {},
   "outputs": [],
   "source": [
    "# Load the model\n",
    "training_args = TrainingArguments(\n",
    "    output_dir=\"../Model Training/camembert-fine-tuned-regression\",\n",
    "    learning_rate=LEARNING_RATE,\n",
    "    per_device_train_batch_size=BATCH_SIZE,\n",
    "    per_device_eval_batch_size=BATCH_SIZE,\n",
    "    num_train_epochs=EPOCHS,\n",
    "    evaluation_strategy=\"epoch\",\n",
    "    save_strategy=\"epoch\",\n",
    "    save_total_limit=2,\n",
    "    metric_for_best_model=\"accuracy\",\n",
    "    load_best_model_at_end=True,\n",
    "    weight_decay=0.01,\n",
    ")"
   ]
  },
  {
   "cell_type": "code",
   "execution_count": 25,
   "id": "655dd334",
   "metadata": {},
   "outputs": [],
   "source": [
    "# changing the loss function\n",
    "class RegressionTrainer(Trainer):\n",
    "    def compute_loss(self, model, inputs, return_outputs=False):\n",
    "        labels = inputs.pop(\"labels\")\n",
    "        outputs = model(**inputs)\n",
    "        logits = outputs[0][:, 0]\n",
    "        loss = torch.nn.functional.mse_loss(logits, labels)\n",
    "        return (loss, outputs) if return_outputs else loss"
   ]
  },
  {
   "cell_type": "code",
   "execution_count": null,
   "id": "6c2367d4",
   "metadata": {},
   "outputs": [
    {
     "name": "stderr",
     "output_type": "stream",
     "text": [
      "E:\\Apps\\Python\\Python Interpreters\\Python 3.7\\lib\\site-packages\\transformers\\optimization.py:310: FutureWarning: This implementation of AdamW is deprecated and will be removed in a future version. Use the PyTorch implementation torch.optim.AdamW instead, or set `no_deprecation_warning=True` to disable this warning\n",
      "  FutureWarning,\n",
      "***** Running training *****\n",
      "  Num examples = 692\n",
      "  Num Epochs = 20\n",
      "  Instantaneous batch size per device = 16\n",
      "  Total train batch size (w. parallel, distributed & accumulation) = 16\n",
      "  Gradient Accumulation steps = 1\n",
      "  Total optimization steps = 880\n",
      "  Number of trainable parameters = 110622721\n"
     ]
    },
    {
     "data": {
      "text/html": [
       "\n",
       "    <div>\n",
       "      \n",
       "      <progress value='28' max='880' style='width:300px; height:20px; vertical-align: middle;'></progress>\n",
       "      [ 28/880 12:36 < 6:53:14, 0.03 it/s, Epoch 0.61/20]\n",
       "    </div>\n",
       "    <table border=\"1\" class=\"dataframe\">\n",
       "  <thead>\n",
       " <tr style=\"text-align: left;\">\n",
       "      <th>Epoch</th>\n",
       "      <th>Training Loss</th>\n",
       "      <th>Validation Loss</th>\n",
       "    </tr>\n",
       "  </thead>\n",
       "  <tbody>\n",
       "  </tbody>\n",
       "</table><p>"
      ],
      "text/plain": [
       "<IPython.core.display.HTML object>"
      ]
     },
     "metadata": {},
     "output_type": "display_data"
    }
   ],
   "source": [
    "# Training the model\n",
    "trainer = RegressionTrainer(\n",
    "    model=model,\n",
    "    args=training_args,\n",
    "    train_dataset=ds[\"train\"],\n",
    "    eval_dataset=ds[\"validation\"],\n",
    "    compute_metrics=compute_metrics_for_regression,\n",
    ")\n",
    "\n",
    "trainer.train()"
   ]
  },
  {
   "cell_type": "code",
   "execution_count": null,
   "id": "af9970f2",
   "metadata": {},
   "outputs": [],
   "source": []
  }
 ],
 "metadata": {
  "kernelspec": {
   "display_name": "Python 3 (ipykernel)",
   "language": "python",
   "name": "python3"
  },
  "language_info": {
   "codemirror_mode": {
    "name": "ipython",
    "version": 3
   },
   "file_extension": ".py",
   "mimetype": "text/x-python",
   "name": "python",
   "nbconvert_exporter": "python",
   "pygments_lexer": "ipython3",
   "version": "3.7.0"
  }
 },
 "nbformat": 4,
 "nbformat_minor": 5
}
